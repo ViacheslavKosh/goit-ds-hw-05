{
 "cells": [
  {
   "cell_type": "code",
   "execution_count": 1,
   "metadata": {},
   "outputs": [],
   "source": [
    "import pandas as pd\n",
    "import numpy as np\n",
    "\n",
    "df = pd.read_csv('bestsellers with categories.csv')"
   ]
  },
  {
   "cell_type": "code",
   "execution_count": null,
   "metadata": {},
   "outputs": [],
   "source": [
    "print(df.head())\n",
    "print(\"Розмір таблиці:\", df.shape)"
   ]
  },
  {
   "cell_type": "markdown",
   "metadata": {},
   "source": [
    "Про скільки книг зберігає дані датасет?\n",
    "Відповідь: 550"
   ]
  },
  {
   "cell_type": "code",
   "execution_count": 3,
   "metadata": {},
   "outputs": [],
   "source": [
    "df.columns = ['name', 'author', 'user_rating', 'reviews', 'price', 'year', 'genre']\n"
   ]
  },
  {
   "cell_type": "code",
   "execution_count": null,
   "metadata": {},
   "outputs": [],
   "source": [
    "# Порахуємо, скільки пропусків міститься в кожній колонці (використовуючи методи isnull та sum)\n",
    "print(df.isna().sum())\n"
   ]
  },
  {
   "cell_type": "markdown",
   "metadata": {},
   "source": [
    "Первинне дослідження даних\n",
    "Чи є в якихось змінних пропуски? (Так / ні)\n",
    "Відповідь: Ні"
   ]
  },
  {
   "cell_type": "code",
   "execution_count": null,
   "metadata": {},
   "outputs": [],
   "source": [
    "print(df['genre'].unique())"
   ]
  },
  {
   "cell_type": "markdown",
   "metadata": {},
   "source": [
    "Які є унікальні жанри?\n",
    "Відповідь: ['Non Fiction' 'Fiction']"
   ]
  },
  {
   "cell_type": "code",
   "execution_count": 6,
   "metadata": {},
   "outputs": [
    {
     "data": {
      "image/png": "[encoded data removed]",
      "text/plain": [
       "<Figure size 640x480 with 1 Axes>"
      ]
     },
     "metadata": {},
     "output_type": "display_data"
    }
   ],
   "source": [
    "#  Діаграма розподілу цін\n",
    "\n",
    "import matplotlib.pyplot as plt\n",
    "\n",
    "df['price'].plot(kind='hist')\n",
    "plt.show()"
   ]
  },
  {
   "cell_type": "code",
   "execution_count": 7,
   "metadata": {},
   "outputs": [
    {
     "name": "stdout",
     "output_type": "stream",
     "text": [
      "Максимальна ціна: 105\n",
      "Мінімальна ціна: 0\n",
      "Середня ціна: 13.1\n",
      "Медіанна ціна: 11.0\n"
     ]
    }
   ],
   "source": [
    "# Визначаємо яка ціна у нас максимальна, мінімальна, середня, медіанна\n",
    "\n",
    "max_price = df['price'].max()\n",
    "min_price = df['price'].min()\n",
    "mean_price = df['price'].mean()\n",
    "median_price = df['price'].median()\n",
    "\n",
    "print(f\"Максимальна ціна: {max_price}\")\n",
    "print(f\"Мінімальна ціна: {min_price}\")\n",
    "print(f\"Середня ціна: {mean_price}\")\n",
    "print(f\"Медіанна ціна: {median_price}\")\n"
   ]
  },
  {
   "cell_type": "markdown",
   "metadata": {},
   "source": [
    "Максимальна ціна?\n",
    "Відповідь: 105\n",
    "\n",
    "Мінімальна ціна?\n",
    "Відповідь: 0\n",
    "\n",
    "Середня ціна?\n",
    "Відповідь: 13.1\n",
    "\n",
    "Медіанна ціна?\n",
    "Відповідь: 11.0"
   ]
  },
  {
   "cell_type": "markdown",
   "metadata": {},
   "source": [
    "Пошук та сортування даних"
   ]
  },
  {
   "cell_type": "code",
   "execution_count": 8,
   "metadata": {},
   "outputs": [
    {
     "name": "stdout",
     "output_type": "stream",
     "text": [
      "Максимальний рейтинг: 4.9\n",
      "52\n",
      "Where the Crawdads Sing\n",
      "Publication Manual of the American Psychological Association, 6th Edition\n",
      "20\n",
      "1\n",
      "To Kill a Mockingbird\n"
     ]
    }
   ],
   "source": [
    "# Який рейтинг у датасеті найвищий?\n",
    "max_rating = df['user_rating'].max()\n",
    "print(f\"Максимальний рейтинг: {max_rating}\")\n",
    "# Відповідь: 4.9\n",
    "\n",
    "# Скільки книг мають такий рейтинг?\n",
    "books_with_max_rating = df[df['user_rating'] == max_rating]\n",
    "print(len(books_with_max_rating))\n",
    "# Відповідь: 52\n",
    "\n",
    "# Яка книга має найбільше відгуків?\n",
    "most_reviews = df['reviews'].max()\n",
    "book_with_most_reviews = df[df['reviews'] == most_reviews]['name'].iloc[0]\n",
    "print(book_with_most_reviews)\n",
    "# Відповідь: Where the Crawdads Sing\n",
    "\n",
    "# З тих книг, що потрапили до Топ-50 у 2015 році, яка книга найдорожча?\n",
    "books_2015 = df[df['year'] == 2015]\n",
    "most_expensive_book_2015 = books_2015.loc[books_2015['price'].idxmax()]['name']\n",
    "print(most_expensive_book_2015)\n",
    "# Відповідь: Publication Manual of the American Psychological Association, 6th Edition\n",
    "\n",
    "# Скільки книг жанру Fiction потрапили до Топ-50 у 2010 році?\n",
    "fiction_books_2010 = df[(df['genre'] == 'Fiction') & (df['year'] == 2010)]\n",
    "print(len(fiction_books_2010))\n",
    "# Відповідь: 20\n",
    "\n",
    "# Скільки книг з рейтингом 4.9 потрапило до рейтингу у 2010 та 2011 роках?\n",
    "books_2010_2011 = df[(df['year'].isin([2010, 2011])) & (df['user_rating'] == 4.9)]\n",
    "print(len(books_2010_2011))\n",
    "# Відповідь: 1\n",
    "\n",
    "# Сортування книг 2015 року з ціною менше 8 доларів\n",
    "# Яка книга остання у відсортованому списку?\n",
    "cheap_books_2015 = books_2015[books_2015['price'] < 8].sort_values(by='price')\n",
    "last_cheap_book_2015 = cheap_books_2015.iloc[0]['name']\n",
    "print(last_cheap_book_2015)\n",
    "# Відповідь: To Kill a Mockingbird"
   ]
  },
  {
   "cell_type": "markdown",
   "metadata": {},
   "source": [
    "Який рейтинг у датасеті найвищий?\n",
    "Відповідь: 4.9\n",
    "\n",
    "Скільки книг мають такий рейтинг?\n",
    "Відповідь: 52\n",
    "\n",
    "Яка книга має найбільше відгуків?\n",
    "Відповідь: Where the Crawdads Sing\n",
    "\n",
    "З тих книг, що потрапили до Топ-50 у 2015 році, яка книга найдорожча?\n",
    "Відповідь: Publication Manual of the American Psychological Association, 6th Edition\n",
    "\n",
    "Скільки книг жанру Fiction потрапили до Топ-50 у 2010 році?\n",
    "Відповідь: 20\n",
    "\n",
    "Скільки книг з рейтингом 4.9 потрапило до рейтингу у 2010 та 2011 роках?\n",
    "Відповідь: 1\n",
    "\n",
    "Сортування книг 2015 року з ціною менше 8 доларів\n",
    "Яка книга остання у відсортованому списку?\n",
    "Відповідь: To Kill a Mockingbird"
   ]
  },
  {
   "cell_type": "markdown",
   "metadata": {},
   "source": [
    "Агрегування даних та з'єднання таблиць"
   ]
  },
  {
   "cell_type": "code",
   "execution_count": 9,
   "metadata": {},
   "outputs": [
    {
     "name": "stdout",
     "output_type": "stream",
     "text": [
      "             max  min\n",
      "genre                \n",
      "Fiction       82    0\n",
      "Non Fiction  105    0\n",
      "(248, 2)\n",
      "author    Jeff Kinney\n",
      "counts             12\n",
      "Name: 120, dtype: object\n",
      "author         Donna Tartt\n",
      "mean_rating            3.9\n",
      "Name: 71, dtype: object\n",
      "             counts  mean_rating\n",
      "author                          \n",
      "Jeff Kinney      12          4.8\n"
     ]
    }
   ],
   "source": [
    "# Максимальна та мінімальна ціни для кожного жанру\n",
    "genre_prices = df.groupby('genre')['price'].agg(['max', 'min'])\n",
    "print(genre_prices)\n",
    "# Відповідь: Максимальна ціна для жанру Fiction: 82\n",
    "# Відповідь: Мінімальна ціна для жанру Fiction: 0\n",
    "# Відповідь: Максимальна ціна для жанру Non Fiction: 105\n",
    "# Відповідь: Мінімальна ціна для жанру Non Fiction: 0\n",
    "\n",
    "\n",
    "# Кількість книг для кожного автора\n",
    "author_counts = df.groupby('author').size().reset_index(name='counts')\n",
    "print(author_counts.shape)\n",
    "# Якої розмірності вийшла таблиця?\n",
    "# Відповідь: (248, 2)\n",
    "\n",
    "most_books_author = author_counts.loc[author_counts['counts'].idxmax()]\n",
    "print(most_books_author)\n",
    "# Який автор має найбільше книг?\n",
    "# Відповідь: Jeff Kinney\n",
    "# Скільки книг цього автора?\n",
    "# Відповідь: 12\n",
    "\n",
    "# Середній рейтинг для кожного автора\n",
    "author_ratings = df.groupby('author')['user_rating'].mean().reset_index(name='mean_rating')\n",
    "\n",
    "author_with_lowest_rating = author_ratings.loc[author_ratings['mean_rating'].idxmin()]\n",
    "print(author_with_lowest_rating)\n",
    "# У якого автора середній рейтинг мінімальний?\n",
    "# Відповідь: Donna Tartt\n",
    "# Який у цього автора середній рейтинг?\n",
    "# Відповідь: 3.9\n",
    "\n",
    "# З'єднання таблиць та сортування:\n",
    "author_stats = pd.concat([author_counts.set_index('author'), author_ratings.set_index('author')], axis=1)\n",
    "sorted_author_stats = author_stats.sort_values(by=['counts', 'mean_rating'], ascending=[False, False])\n",
    "print(sorted_author_stats.head(1))\n",
    "# Який автор перший у списку?\n",
    "# Відповідь: Jeff Kinney\n"
   ]
  },
  {
   "cell_type": "markdown",
   "metadata": {},
   "source": [
    "Максимальна та мінімальна ціни для кожного жанру\n",
    "Відповідь: Максимальна ціна для жанру Fiction: 82\n",
    "Відповідь: Мінімальна ціна для жанру Fiction: 0\n",
    "Відповідь: Максимальна ціна для жанру Non Fiction: 105\n",
    "Відповідь: Мінімальна ціна для жанру Non Fiction: 0\n",
    "\n",
    "\n",
    "Кількість книг для кожного автора\n",
    "Якої розмірності вийшла таблиця?\n",
    "Відповідь: (248, 2)\n",
    "\n",
    "Який автор має найбільше книг?\n",
    "Відповідь: Jeff Kinney\n",
    "Скільки книг цього автора?\n",
    "Відповідь: 12\n",
    "\n",
    "Середній рейтинг для кожного автора\n",
    "У якого автора середній рейтинг мінімальний?\n",
    "Відповідь: Donna Tartt\n",
    "Який у цього автора середній рейтинг?\n",
    "Відповідь: 3.9\n",
    "\n",
    "З'єднання таблиць та сортування:\n",
    "Який автор перший у списку?\n",
    "Відповідь: Jeff Kinney"
   ]
  },
  {
   "cell_type": "code",
   "execution_count": 12,
   "metadata": {},
   "outputs": [
    {
     "ename": "KeyError",
     "evalue": "'author'",
     "output_type": "error",
     "traceback": [
      "\u001b[1;31m---------------------------------------------------------------------------\u001b[0m",
      "\u001b[1;31mKeyError\u001b[0m                                  Traceback (most recent call last)",
      "File \u001b[1;32mc:\\Users\\WorkPC\\AppData\\Local\\Programs\\Python\\Python312\\Lib\\site-packages\\pandas\\core\\indexes\\base.py:3805\u001b[0m, in \u001b[0;36mIndex.get_loc\u001b[1;34m(self, key)\u001b[0m\n\u001b[0;32m   3804\u001b[0m \u001b[38;5;28;01mtry\u001b[39;00m:\n\u001b[1;32m-> 3805\u001b[0m     \u001b[38;5;28;01mreturn\u001b[39;00m \u001b[38;5;28;43mself\u001b[39;49m\u001b[38;5;241;43m.\u001b[39;49m\u001b[43m_engine\u001b[49m\u001b[38;5;241;43m.\u001b[39;49m\u001b[43mget_loc\u001b[49m\u001b[43m(\u001b[49m\u001b[43mcasted_key\u001b[49m\u001b[43m)\u001b[49m\n\u001b[0;32m   3806\u001b[0m \u001b[38;5;28;01mexcept\u001b[39;00m \u001b[38;5;167;01mKeyError\u001b[39;00m \u001b[38;5;28;01mas\u001b[39;00m err:\n",
      "File \u001b[1;32mindex.pyx:167\u001b[0m, in \u001b[0;36mpandas._libs.index.IndexEngine.get_loc\u001b[1;34m()\u001b[0m\n",
      "File \u001b[1;32mindex.pyx:196\u001b[0m, in \u001b[0;36mpandas._libs.index.IndexEngine.get_loc\u001b[1;34m()\u001b[0m\n",
      "File \u001b[1;32mpandas\\\\_libs\\\\hashtable_class_helper.pxi:7081\u001b[0m, in \u001b[0;36mpandas._libs.hashtable.PyObjectHashTable.get_item\u001b[1;34m()\u001b[0m\n",
      "File \u001b[1;32mpandas\\\\_libs\\\\hashtable_class_helper.pxi:7089\u001b[0m, in \u001b[0;36mpandas._libs.hashtable.PyObjectHashTable.get_item\u001b[1;34m()\u001b[0m\n",
      "\u001b[1;31mKeyError\u001b[0m: 'author'",
      "\nThe above exception was the direct cause of the following exception:\n",
      "\u001b[1;31mKeyError\u001b[0m                                  Traceback (most recent call last)",
      "Cell \u001b[1;32mIn[12], line 4\u001b[0m\n\u001b[0;32m      1\u001b[0m \u001b[38;5;28;01mimport\u001b[39;00m \u001b[38;5;21;01mmatplotlib\u001b[39;00m\u001b[38;5;21;01m.\u001b[39;00m\u001b[38;5;21;01mpyplot\u001b[39;00m \u001b[38;5;28;01mas\u001b[39;00m \u001b[38;5;21;01mplt\u001b[39;00m\n\u001b[0;32m      3\u001b[0m plt\u001b[38;5;241m.\u001b[39mfigure(figsize\u001b[38;5;241m=\u001b[39m(\u001b[38;5;241m10\u001b[39m, \u001b[38;5;241m6\u001b[39m))\n\u001b[1;32m----> 4\u001b[0m plt\u001b[38;5;241m.\u001b[39mbar(\u001b[43mauthor_stats\u001b[49m\u001b[43m[\u001b[49m\u001b[38;5;124;43m'\u001b[39;49m\u001b[38;5;124;43mauthor\u001b[39;49m\u001b[38;5;124;43m'\u001b[39;49m\u001b[43m]\u001b[49m, author_stats[\u001b[38;5;124m'\u001b[39m\u001b[38;5;124mmean_rating\u001b[39m\u001b[38;5;124m'\u001b[39m], color\u001b[38;5;241m=\u001b[39m\u001b[38;5;124m'\u001b[39m\u001b[38;5;124mskyblue\u001b[39m\u001b[38;5;124m'\u001b[39m)\n\u001b[0;32m      5\u001b[0m plt\u001b[38;5;241m.\u001b[39mxticks(rotation\u001b[38;5;241m=\u001b[39m\u001b[38;5;241m90\u001b[39m)\n\u001b[0;32m      6\u001b[0m plt\u001b[38;5;241m.\u001b[39mxlabel(\u001b[38;5;124m'\u001b[39m\u001b[38;5;124mАвтор\u001b[39m\u001b[38;5;124m'\u001b[39m)\n",
      "File \u001b[1;32mc:\\Users\\WorkPC\\AppData\\Local\\Programs\\Python\\Python312\\Lib\\site-packages\\pandas\\core\\frame.py:4102\u001b[0m, in \u001b[0;36mDataFrame.__getitem__\u001b[1;34m(self, key)\u001b[0m\n\u001b[0;32m   4100\u001b[0m \u001b[38;5;28;01mif\u001b[39;00m \u001b[38;5;28mself\u001b[39m\u001b[38;5;241m.\u001b[39mcolumns\u001b[38;5;241m.\u001b[39mnlevels \u001b[38;5;241m>\u001b[39m \u001b[38;5;241m1\u001b[39m:\n\u001b[0;32m   4101\u001b[0m     \u001b[38;5;28;01mreturn\u001b[39;00m \u001b[38;5;28mself\u001b[39m\u001b[38;5;241m.\u001b[39m_getitem_multilevel(key)\n\u001b[1;32m-> 4102\u001b[0m indexer \u001b[38;5;241m=\u001b[39m \u001b[38;5;28;43mself\u001b[39;49m\u001b[38;5;241;43m.\u001b[39;49m\u001b[43mcolumns\u001b[49m\u001b[38;5;241;43m.\u001b[39;49m\u001b[43mget_loc\u001b[49m\u001b[43m(\u001b[49m\u001b[43mkey\u001b[49m\u001b[43m)\u001b[49m\n\u001b[0;32m   4103\u001b[0m \u001b[38;5;28;01mif\u001b[39;00m is_integer(indexer):\n\u001b[0;32m   4104\u001b[0m     indexer \u001b[38;5;241m=\u001b[39m [indexer]\n",
      "File \u001b[1;32mc:\\Users\\WorkPC\\AppData\\Local\\Programs\\Python\\Python312\\Lib\\site-packages\\pandas\\core\\indexes\\base.py:3812\u001b[0m, in \u001b[0;36mIndex.get_loc\u001b[1;34m(self, key)\u001b[0m\n\u001b[0;32m   3807\u001b[0m     \u001b[38;5;28;01mif\u001b[39;00m \u001b[38;5;28misinstance\u001b[39m(casted_key, \u001b[38;5;28mslice\u001b[39m) \u001b[38;5;129;01mor\u001b[39;00m (\n\u001b[0;32m   3808\u001b[0m         \u001b[38;5;28misinstance\u001b[39m(casted_key, abc\u001b[38;5;241m.\u001b[39mIterable)\n\u001b[0;32m   3809\u001b[0m         \u001b[38;5;129;01mand\u001b[39;00m \u001b[38;5;28many\u001b[39m(\u001b[38;5;28misinstance\u001b[39m(x, \u001b[38;5;28mslice\u001b[39m) \u001b[38;5;28;01mfor\u001b[39;00m x \u001b[38;5;129;01min\u001b[39;00m casted_key)\n\u001b[0;32m   3810\u001b[0m     ):\n\u001b[0;32m   3811\u001b[0m         \u001b[38;5;28;01mraise\u001b[39;00m InvalidIndexError(key)\n\u001b[1;32m-> 3812\u001b[0m     \u001b[38;5;28;01mraise\u001b[39;00m \u001b[38;5;167;01mKeyError\u001b[39;00m(key) \u001b[38;5;28;01mfrom\u001b[39;00m \u001b[38;5;21;01merr\u001b[39;00m\n\u001b[0;32m   3813\u001b[0m \u001b[38;5;28;01mexcept\u001b[39;00m \u001b[38;5;167;01mTypeError\u001b[39;00m:\n\u001b[0;32m   3814\u001b[0m     \u001b[38;5;66;03m# If we have a listlike key, _check_indexing_error will raise\u001b[39;00m\n\u001b[0;32m   3815\u001b[0m     \u001b[38;5;66;03m#  InvalidIndexError. Otherwise we fall through and re-raise\u001b[39;00m\n\u001b[0;32m   3816\u001b[0m     \u001b[38;5;66;03m#  the TypeError.\u001b[39;00m\n\u001b[0;32m   3817\u001b[0m     \u001b[38;5;28mself\u001b[39m\u001b[38;5;241m.\u001b[39m_check_indexing_error(key)\n",
      "\u001b[1;31mKeyError\u001b[0m: 'author'"
     ]
    },
    {
     "data": {
      "text/plain": [
       "<Figure size 1000x600 with 0 Axes>"
      ]
     },
     "metadata": {},
     "output_type": "display_data"
    }
   ],
   "source": [
    "import matplotlib.pyplot as plt\n",
    "\n",
    "plt.figure(figsize=(10, 6))\n",
    "plt.bar(author_stats['author'], author_stats['mean_rating'], color='skyblue')\n",
    "plt.xticks(rotation=90)\n",
    "plt.xlabel('Автор')\n",
    "plt.ylabel('Рейтинг')\n",
    "plt.title('Рейтинг авторів')\n",
    "plt.tight_layout()\n",
    "plt.show()\n"
   ]
  }
 ],
 "metadata": {
  "kernelspec": {
   "display_name": "Python 3",
   "language": "python",
   "name": "python3"
  },
  "language_info": {
   "codemirror_mode": {
    "name": "ipython",
    "version": 3
   },
   "file_extension": ".py",
   "mimetype": "text/x-python",
   "name": "python",
   "nbconvert_exporter": "python",
   "pygments_lexer": "ipython3",
   "version": "3.12.3"
  }
 },
 "nbformat": 4,
 "nbformat_minor": 2
}
