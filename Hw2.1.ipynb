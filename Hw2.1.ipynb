{
 "cells": [
  {
   "cell_type": "code",
   "execution_count": null,
   "metadata": {},
   "outputs": [],
   "source": [
    "import pandas as pd\n",
    "import numpy as np\n",
    "\n",
    "# Зчитуємо таблиці з сайту за каласом\n",
    "tmp = pd.read_html(\"https://uk.wikipedia.org/wiki/%D0%9D%D0%B0%D1%81%D0%B5%D0%BB%D0%B5%D0%BD%D0%BD%D1%8F_%D0%A3%D0%BA%D1%80%D0%B0%D1%97%D0%BD%D0%B8\", attrs={\"class\": \"wikitable collapsible collapsed\"})\n",
    "\n",
    "# нам потрібна третя\n",
    "db = tmp[3]\n",
    "\n",
    "print(db)\n"
   ]
  },
  {
   "cell_type": "code",
   "execution_count": 50,
   "metadata": {},
   "outputs": [
    {
     "name": "stdout",
     "output_type": "stream",
     "text": [
      "             Регіон   1950   1960   1970  1990  2000  2012 2014 2019\n",
      "0              Крим  230.0  206.0  160.0   130    73   126    —    —\n",
      "1         Вінницька  224.0  192.0  142.0   124    84   112  109   76\n",
      "2         Волинська  247.0  250.0  179.0   153   112   148  141  101\n",
      "3  Дніпропетровська  204.0  204.0  151.0   123    71   112  111   71\n",
      "4          Донецька  271.0  214.0  140.0   109    61    98   82    —\n"
     ]
    }
   ],
   "source": [
    "# Перші рядки таблиці за допомогою методу head\n",
    "print(tmp[3].head())"
   ]
  },
  {
   "cell_type": "code",
   "execution_count": 51,
   "metadata": {},
   "outputs": [
    {
     "name": "stdout",
     "output_type": "stream",
     "text": [
      "(28, 9)\n"
     ]
    }
   ],
   "source": [
    "# Кількість рядків та стовпців у датафреймі (атрибут shape)\n",
    "print(db.shape)"
   ]
  },
  {
   "cell_type": "code",
   "execution_count": 52,
   "metadata": {},
   "outputs": [
    {
     "name": "stdout",
     "output_type": "stream",
     "text": [
      "               Регіон   1950   1960   1970  1990  2000  2012 2014 2019\n",
      "0                Крим  230.0  206.0  160.0   130    73   126  NaN  NaN\n",
      "1           Вінницька  224.0  192.0  142.0   124    84   112  109   76\n",
      "2           Волинська  247.0  250.0  179.0   153   112   148  141  101\n",
      "3    Дніпропетровська  204.0  204.0  151.0   123    71   112  111   71\n",
      "4            Донецька  271.0  214.0  140.0   109    61    98   82  NaN\n",
      "5         Житомирська  261.0  223.0  159.0   129    89   122  120   79\n",
      "6        Закарпатська  314.0  273.0  207.0   168   115   151  146  104\n",
      "7          Запорізька  219.0  197.0  150.0   124    71   106  106   68\n",
      "8   Івано-Франківська  243.0  248.0  182.0   155   103   124  122   88\n",
      "9            Київська  204.0  189.0  156.0   123    73   122  121   80\n",
      "10     Кіровоградська  216.0  171.0  145.0   126    79   110  108   68\n",
      "11          Луганська  262.0  235.0  144.0   116    62    96   51  NaN\n",
      "12          Львівська  234.0  240.0  171.0   140    91   119  119   87\n",
      "13       Миколаївська  211.0  194.0  155.0   137    80   115  112   71\n",
      "14            Одеська  241.0  192.0  148.0   126    80   127  123   88\n",
      "15         Полтавська  186.0  163.0  131.0   118    70    99  100   65\n",
      "16         Рівненська  269.0  267.0  193.0   158   118   159  148  107\n",
      "17            Сумська  216.0  184.0  132.0   115    70    97   92   60\n",
      "18      Тернопільська  213.0  216.0  157.0   142    92   113  109   76\n",
      "19         Харківська  197.0  173.0  140.0   114    68    99  101   68\n",
      "20         Херсонська  208.0  214.0  166.0   143    85   117  115   81\n",
      "21        Хмельницька  234.0  198.0  148.0   129    85   113  112   79\n",
      "22          Черкаська  205.0  179.0  144.0   123    75   100   98   64\n",
      "23        Чернівецька  247.0  218.0  170.0   148   101   128  129   92\n",
      "24       Чернігівська  220.0  183.0  127.0   108    69    94   90   61\n",
      "25               Київ    NaN  174.0  159.0   120    73   120  121  110\n",
      "26        Севастополь    NaN    NaN    NaN   125    70   120  NaN  NaN\n",
      "27            Україна  228.0  205.0  152.0   126    78   114  111   81\n"
     ]
    }
   ],
   "source": [
    "# Замінюємо у таблиці значення \"—\" на значення NaN\n",
    "db.replace(\"—\", np.nan, inplace=True)\n",
    "print(data)"
   ]
  },
  {
   "cell_type": "code",
   "execution_count": 53,
   "metadata": {},
   "outputs": [
    {
     "name": "stdout",
     "output_type": "stream",
     "text": [
      "Регіон     object\n",
      "1950      float64\n",
      "1960      float64\n",
      "1970      float64\n",
      "1990        int64\n",
      "2000        int64\n",
      "2012        int64\n",
      "2014       object\n",
      "2019       object\n",
      "dtype: object\n"
     ]
    }
   ],
   "source": [
    "# Типи всіх стовпців за допомогою dataframe.dtypes\n",
    "print(db.dtypes)"
   ]
  },
  {
   "cell_type": "code",
   "execution_count": 54,
   "metadata": {},
   "outputs": [
    {
     "name": "stdout",
     "output_type": "stream",
     "text": [
      "Регіон     object\n",
      "1950      float64\n",
      "1960      float64\n",
      "1970      float64\n",
      "1990        int64\n",
      "2000        int64\n",
      "2012        int64\n",
      "2014      float64\n",
      "2019      float64\n",
      "dtype: object\n"
     ]
    },
    {
     "name": "stderr",
     "output_type": "stream",
     "text": [
      "C:\\Users\\WorkPC\\AppData\\Local\\Temp\\ipykernel_23132\\3265693888.py:2: FutureWarning: errors='ignore' is deprecated and will raise in a future version. Use to_numeric without passing `errors` and catch exceptions explicitly instead\n",
      "  db = db.apply(pd.to_numeric, errors='ignore')\n"
     ]
    }
   ],
   "source": [
    "# Замінюємо типи нечислових колонок на числові\n",
    "db = db.apply(pd.to_numeric, errors='ignore')\n",
    "print(db.dtypes)"
   ]
  },
  {
   "cell_type": "code",
   "execution_count": 55,
   "metadata": {},
   "outputs": [
    {
     "name": "stdout",
     "output_type": "stream",
     "text": [
      "Регіон    0.000000\n",
      "1950      0.000000\n",
      "1960      0.000000\n",
      "1970      0.000000\n",
      "1990      0.000000\n",
      "2000      0.000000\n",
      "2012      0.000000\n",
      "2014      0.071429\n",
      "2019      0.142857\n",
      "dtype: float64\n"
     ]
    }
   ],
   "source": [
    "# яка частка пропусків міститься в кожній колонці (використовуйте методи isnull та sum)\n",
    "missing_values = db.isnull().sum() / len(db)\n",
    "print(missing_values)\n"
   ]
  },
  {
   "cell_type": "code",
   "execution_count": null,
   "metadata": {},
   "outputs": [],
   "source": [
    "# Замінюємо відсутні дані в стовпцях середніми значеннями цих стовпців (метод fillna)\n",
    "for column in db.columns[1:]:\n",
    "    db[column].fillna(db[column].mean())\n",
    "\n",
    "print(db)"
   ]
  },
  {
   "cell_type": "code",
   "execution_count": null,
   "metadata": {},
   "outputs": [],
   "source": [
    "# Отримуємо список регіонів, де рівень народжуваності у 2019 році був вищим за середній по Україні\n",
    "regions_above_avg = db[db['2019'] > db['2019'].mean()]\n",
    "print(regions_above_avg['Регіон'])"
   ]
  },
  {
   "cell_type": "code",
   "execution_count": 63,
   "metadata": {},
   "outputs": [
    {
     "name": "stdout",
     "output_type": "stream",
     "text": [
      "Рівненська\n"
     ]
    }
   ],
   "source": [
    "# У якому регіоні була найвища народжуваність у 2014 році\n",
    "max_birth_rate_2014 = db['2014'].idxmax()\n",
    "print(db.loc[max_birth_rate_2014, 'Регіон'])"
   ]
  },
  {
   "cell_type": "code",
   "execution_count": null,
   "metadata": {},
   "outputs": [],
   "source": [
    "# Побудуйте стовпчикову діаграму народжуваності по регіонах у 2019 році\n",
    "import matplotlib.pyplot as plt\n",
    "\n",
    "plt.figure(figsize=(10, 6))\n",
    "plt.bar(db['Регіон'], db['2019'], color='skyblue')\n",
    "plt.xticks(rotation=90)\n",
    "plt.xlabel('Регіон')\n",
    "plt.ylabel('Коефіцієнт народжуваності у 2019 році')\n",
    "plt.title('Коефіцієнт народжуваності по регіонах у 2019 році')\n",
    "plt.tight_layout()\n",
    "plt.show()\n"
   ]
  },
  {
   "cell_type": "code",
   "execution_count": null,
   "metadata": {},
   "outputs": [],
   "source": [
    "db.replace('—', np.nan, inplace=True)\n",
    "\n",
    "# Перетворимо дані на числовий формат\n",
    "db['2019'] = pd.to_numeric(db['2019'], errors='coerce')\n",
    "\n",
    "# Видалимо рядки з відсутніми значеннями в колонці 2019\n",
    "db_clean = db.dropna(subset=['2019'])\n",
    "\n",
    "plt.figure(figsize=(10, 7))\n",
    "plt.pie(db_clean['2019'], labels=db_clean['Регіон'], autopct='%1.1f%%', startangle=140)\n",
    "plt.title('Розподіл населення за регіонами України у 2019 році')\n",
    "plt.axis('equal')  \n",
    "plt.show()"
   ]
  },
  {
   "cell_type": "code",
   "execution_count": 13,
   "metadata": {},
   "outputs": [
    {
     "data": {
      "image/png": "[encoded data removed]",
      "text/plain": [
       "<Figure size 1000x600 with 1 Axes>"
      ]
     },
     "metadata": {},
     "output_type": "display_data"
    }
   ],
   "source": [
    "db.replace('—', np.nan, inplace=True)\n",
    "\n",
    "# Виберемо дані для Запорізької області\n",
    "zaporizhzhia_data = db[db['Регіон'] == 'Запорізька'].drop(columns='Регіон')\n",
    "\n",
    "# Перетворимо дані на числовий формат\n",
    "zaporizhzhia_data = zaporizhzhia_data.apply(pd.to_numeric, errors='coerce').transpose()\n",
    "zaporizhzhia_data.columns = ['Population']\n",
    "\n",
    "# Додамо рядок з роками\n",
    "years = ['1950', '1960', '1970', '1990', '2000', '2012', '2014', '2019']\n",
    "zaporizhzhia_data['Year'] = years\n",
    "\n",
    "# Видалимо рядки з відсутніми значеннями\n",
    "zaporizhzhia_data.dropna(inplace=True)\n",
    "\n",
    "# Побудова лінійного графіку\n",
    "plt.figure(figsize=(10, 6))\n",
    "plt.plot(zaporizhzhia_data['Year'], zaporizhzhia_data['Population'], marker='o', linestyle='-', color='r')\n",
    "plt.xlabel('Рік')\n",
    "plt.ylabel('Населення (тис. осіб)')\n",
    "plt.title('Залежність населення Запорізької області від років')\n",
    "plt.grid(True)\n",
    "plt.show()"
   ]
  }
 ],
 "metadata": {
  "kernelspec": {
   "display_name": "Python 3",
   "language": "python",
   "name": "python3"
  },
  "language_info": {
   "codemirror_mode": {
    "name": "ipython",
    "version": 3
   },
   "file_extension": ".py",
   "mimetype": "text/x-python",
   "name": "python",
   "nbconvert_exporter": "python",
   "pygments_lexer": "ipython3",
   "version": "3.12.3"
  }
 },
 "nbformat": 4,
 "nbformat_minor": 2
}
