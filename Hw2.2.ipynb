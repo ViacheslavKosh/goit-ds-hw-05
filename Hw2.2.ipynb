{
 "cells": [
  {
   "cell_type": "code",
   "execution_count": 32,
   "metadata": {},
   "outputs": [],
   "source": [
    "import pandas as pd\n",
    "import numpy as np\n",
    "\n",
    "# Читаємо файл 2017_jun_final.csv за допомогою методу read_csv\n",
    "db = pd.read_csv('2017_jun_final.csv')\n"
   ]
  },
  {
   "cell_type": "code",
   "execution_count": null,
   "metadata": {},
   "outputs": [],
   "source": [
    "# Читаємо отриману таблицю, використовуючи метод head\n",
    "print(db.head())"
   ]
  },
  {
   "cell_type": "code",
   "execution_count": null,
   "metadata": {},
   "outputs": [],
   "source": [
    "# Визначимо розмір таблиці за допомогою методу shape\n",
    "print(\"Розмір таблиці:\", db.shape)"
   ]
  },
  {
   "cell_type": "code",
   "execution_count": null,
   "metadata": {},
   "outputs": [],
   "source": [
    "# Визначимо типи всіх стовпців за допомогою dataframe.dtypes\n",
    "print(\"Типи стовпців:\\n\", db.dtypes)"
   ]
  },
  {
   "cell_type": "code",
   "execution_count": null,
   "metadata": {},
   "outputs": [
    {
     "ename": "",
     "evalue": "",
     "output_type": "error",
     "traceback": [
      "\u001b[1;31mThe Kernel crashed while executing code in the current cell or a previous cell. \n",
      "\u001b[1;31mPlease review the code in the cell(s) to identify a possible cause of the failure. \n",
      "\u001b[1;31mClick <a href='https://aka.ms/vscodeJupyterKernelCrash'>here</a> for more info. \n",
      "\u001b[1;31mView Jupyter <a href='command:jupyter.viewOutput'>log</a> for further details."
     ]
    }
   ],
   "source": [
    "# Порахуємо, яка частка пропусків міститься в кожній колонці (використовуючи методи isnull та sum)\n",
    "missing_values = db.isnull().sum() / len(db)\n",
    "print(\"Частка пропусків у кожній колонці:\\n\", missing_values)"
   ]
  },
  {
   "cell_type": "code",
   "execution_count": null,
   "metadata": {},
   "outputs": [],
   "source": [
    "# Видаляємо всі стовпці з пропусками, крім стовпця \"Мова програмування\"\n",
    "db_cleaned = db.dropna(axis=1, how='any').copy()\n",
    "db_cleaned['Мова програмування'] = db['Мова програмування']\n",
    "print(db_cleaned.columns)"
   ]
  },
  {
   "cell_type": "code",
   "execution_count": null,
   "metadata": {},
   "outputs": [],
   "source": [
    "# Знову порахуємо, яка частка пропусків міститься в кожній колонці і переконаємося, що залишився тільки стовпець \"Мова програмування\"\n",
    "missing_values_cleaned = db_cleaned.isnull().sum() / len(db_cleaned)\n",
    "print(\"Частка пропусків у кожній колонці після очищення:\\n\", missing_values_cleaned)"
   ]
  },
  {
   "cell_type": "code",
   "execution_count": null,
   "metadata": {},
   "outputs": [],
   "source": [
    "# Видаляємо усі рядки у вихідній таблиці за допомогою методу dropna\n",
    "db_cleaned.dropna(inplace=True)\n",
    "print(db_cleaned.head())"
   ]
  },
  {
   "cell_type": "code",
   "execution_count": 52,
   "metadata": {},
   "outputs": [
    {
     "name": "stdout",
     "output_type": "stream",
     "text": [
      "Новий розмір таблиці: (4854, 20)\n"
     ]
    }
   ],
   "source": [
    "# Визначяємо новий розмір таблиці за допомогою методу shape\n",
    "print(\"Новий розмір таблиці:\", db_cleaned.shape)"
   ]
  },
  {
   "cell_type": "code",
   "execution_count": null,
   "metadata": {},
   "outputs": [],
   "source": [
    "# Створюємо нову таблицю python_data, в якій будуть тільки рядки зі спеціалістами, які вказали мову програмування Python\n",
    "python_data = db[db['Мова програмування'].str.contains('Python', na=False)].copy()\n",
    "print(python_data)"
   ]
  },
  {
   "cell_type": "code",
   "execution_count": 56,
   "metadata": {},
   "outputs": [
    {
     "name": "stdout",
     "output_type": "stream",
     "text": [
      "Розмір таблиці python_data: (207, 25)\n"
     ]
    }
   ],
   "source": [
    "# Визначаємо розмір таблиці python_data за допомогою методу shape\n",
    "print(\"Розмір таблиці python_data:\", python_data.shape)"
   ]
  },
  {
   "cell_type": "markdown",
   "metadata": {},
   "source": [
    "З посадою розібратися"
   ]
  },
  {
   "cell_type": "code",
   "execution_count": 63,
   "metadata": {},
   "outputs": [
    {
     "name": "stdout",
     "output_type": "stream",
     "text": [
      "<pandas.core.groupby.generic.DataFrameGroupBy object at 0x00000273F24F7890>\n"
     ]
    }
   ],
   "source": [
    "# Виконаємо групування за стовпчиком \"Посада\"\n",
    "grouped_data = db.groupby('Посада')\n",
    "print(grouped_data)"
   ]
  },
  {
   "cell_type": "code",
   "execution_count": null,
   "metadata": {},
   "outputs": [],
   "source": [
    "# Створимо новий DataFrame з мінімальним та максимальним значенням у стовпчику \"Зарплата на місяць\"\n",
    "agg_data = grouped_data['Зарплата на місяць'].agg(['min', 'max'])\n",
    "print(\"Агреговані дані:\\n\", agg_data)"
   ]
  },
  {
   "cell_type": "code",
   "execution_count": null,
   "metadata": {},
   "outputs": [],
   "source": [
    "# Створимо функцію fill_avg_salary, яка повертатиме середнє значення заробітної плати на місяць\n",
    "def fill_avg_salary(row):\n",
    "    return (row['min'] + row['max']) / 2\n",
    "agg_data['avg'] = agg_data.apply(fill_avg_salary, axis=1)\n",
    "print(agg_data)"
   ]
  },
  {
   "cell_type": "code",
   "execution_count": null,
   "metadata": {},
   "outputs": [],
   "source": [
    "# Створимо описову статистику за допомогою методу describe для нового стовпчика\n",
    "print(\"Описова статистика для нового стовпчика 'avg':\\n\", agg_data['avg'].describe())"
   ]
  },
  {
   "cell_type": "code",
   "execution_count": 69,
   "metadata": {},
   "outputs": [],
   "source": [
    "# Збережемо отриману таблицю в CSV файл\n",
    "agg_data.to_csv('aggregated_python_data.csv', index=True)"
   ]
  }
 ],
 "metadata": {
  "kernelspec": {
   "display_name": "Python 3",
   "language": "python",
   "name": "python3"
  },
  "language_info": {
   "codemirror_mode": {
    "name": "ipython",
    "version": 3
   },
   "file_extension": ".py",
   "mimetype": "text/x-python",
   "name": "python",
   "nbconvert_exporter": "python",
   "pygments_lexer": "ipython3",
   "version": "3.12.3"
  }
 },
 "nbformat": 4,
 "nbformat_minor": 2
}
