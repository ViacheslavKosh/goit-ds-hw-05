{
 "cells": [
  {
   "cell_type": "code",
   "execution_count": 2,
   "metadata": {},
   "outputs": [],
   "source": [
    "import pandas as pd\n",
    "import numpy as np\n",
    "\n",
    "# Читаємо файл 2017_jun_final.csv за допомогою методу read_csv\n",
    "db = pd.read_csv('2017_jun_final.csv')\n"
   ]
  },
  {
   "cell_type": "code",
   "execution_count": 3,
   "metadata": {},
   "outputs": [
    {
     "name": "stdout",
     "output_type": "stream",
     "text": [
      "   N                    Посада Мова програмування Спеціалізація  \\\n",
      "0  1        Junior QA engineer                NaN     Manual QA   \n",
      "1  2        Junior QA engineer                NaN     Manual QA   \n",
      "2  3         Software Engineer            C#/.NET           NaN   \n",
      "3  4         Software Engineer         JavaScript           NaN   \n",
      "4  5  Senior Software Engineer         JavaScript           NaN   \n",
      "\n",
      "  Загальний досвід роботи Досвід роботи на поточному місці  \\\n",
      "0                     0.5                              0.5   \n",
      "1         менше 3 місяців                  менше 3 місяців   \n",
      "2                       4                                1   \n",
      "3                       5                                4   \n",
      "4       10 і більше років                              0.5   \n",
      "\n",
      "   Зарплата на місяць  Зміна зарплати за 12 місяців   Місто   Розмір компанії  \\\n",
      "0                 400                             0  Харків        до 10 осіб   \n",
      "1                 430                           130  Харків  більше 1000 осіб   \n",
      "2                2500                           800    Київ      до 1000 осіб   \n",
      "3                2000                           400   Одеса       до 200 осіб   \n",
      "4                4500                           500    Інше        до 10 осіб   \n",
      "\n",
      "   ... Ще студент                    Рівень англійської  \\\n",
      "0  ...       True    Pre-intermediate (нище середнього)   \n",
      "1  ...       True  Upper-Intermediate (вище середнього)   \n",
      "2  ...      False               Intermediate (середній)   \n",
      "3  ...      False    Pre-intermediate (нище середнього)   \n",
      "4  ...      False               Intermediate (середній)   \n",
      "\n",
      "                   Предметна область      Дата заповнення  \\\n",
      "0                      iOS,eCommerce  12/06/2017 12:38:08   \n",
      "1                       Веб-розробка  12/06/2017 12:42:51   \n",
      "2  Веб-розробка,Корпоративні системи  12/06/2017 13:02:47   \n",
      "3  Desktop Applications,Веб-розробка  12/06/2017 13:03:01   \n",
      "4  Desktop Applications,Веб-розробка  12/06/2017 13:03:47   \n",
      "\n",
      "                                          User.Agent   exp current_job_exp  \\\n",
      "0  Mozilla/5.0 (Windows NT 10.0; Win64; x64) Appl...   0.5             0.5   \n",
      "1  Mozilla/5.0 (iPad; CPU OS 10_2_1 like Mac OS X...   0.0             0.0   \n",
      "2  Mozilla/5.0 (Windows NT 10.0; Win64; x64) Appl...   4.0             1.0   \n",
      "3  Mozilla/5.0 (Windows NT 6.1; Win64; x64) Apple...   5.0             4.0   \n",
      "4  Mozilla/5.0 (iPhone; CPU iPhone OS 10_3_2 like...  10.0             0.5   \n",
      "\n",
      "  salary Валюта  cls  \n",
      "0    400    NaN   QA  \n",
      "1    430    NaN   QA  \n",
      "2   2500    NaN  DEV  \n",
      "3   2000    NaN  DEV  \n",
      "4   4500    NaN  DEV  \n",
      "\n",
      "[5 rows x 25 columns]\n"
     ]
    }
   ],
   "source": [
    "# Читаємо отриману таблицю, використовуючи метод head\n",
    "print(db.head())"
   ]
  },
  {
   "cell_type": "code",
   "execution_count": null,
   "metadata": {},
   "outputs": [],
   "source": [
    "# Визначимо розмір таблиці за допомогою методу shape\n",
    "print(\"Розмір таблиці:\", db.shape)"
   ]
  },
  {
   "cell_type": "code",
   "execution_count": null,
   "metadata": {},
   "outputs": [],
   "source": [
    "# Визначимо типи всіх стовпців за допомогою dataframe.dtypes\n",
    "print(\"Типи стовпців:\\n\", db.dtypes)"
   ]
  },
  {
   "cell_type": "code",
   "execution_count": 4,
   "metadata": {},
   "outputs": [
    {
     "name": "stdout",
     "output_type": "stream",
     "text": [
      "Частка пропусків у кожній колонці:\n",
      " N                                   0.000000\n",
      "Посада                              0.000000\n",
      "Мова програмування                  0.442325\n",
      "Спеціалізація                       0.829389\n",
      "Загальний досвід роботи             0.000000\n",
      "Досвід роботи на поточному місці    0.000000\n",
      "Зарплата на місяць                  0.000000\n",
      "Зміна зарплати за 12 місяців        0.000000\n",
      "Місто                               0.000000\n",
      "Розмір компанії                     0.000000\n",
      "Тип компанії                        0.000000\n",
      "Стать                               0.000000\n",
      "Вік                                 0.000000\n",
      "Освіта                              0.000000\n",
      "Університет                         0.041131\n",
      "Ще студент                          0.000000\n",
      "Рівень англійської                  0.000000\n",
      "Предметна область                   0.025620\n",
      "Дата заповнення                     0.000000\n",
      "User.Agent                          0.000000\n",
      "exp                                 0.000000\n",
      "current_job_exp                     0.000000\n",
      "salary                              0.000000\n",
      "Валюта                              0.998851\n",
      "cls                                 0.180836\n",
      "dtype: float64\n"
     ]
    }
   ],
   "source": [
    "# Порахуємо, яка частка пропусків міститься в кожній колонці (використовуючи методи isnull та sum)\n",
    "missing_values = db.isnull().sum() / len(db)\n",
    "print(\"Частка пропусків у кожній колонці:\\n\", missing_values)"
   ]
  },
  {
   "cell_type": "code",
   "execution_count": 5,
   "metadata": {},
   "outputs": [
    {
     "name": "stdout",
     "output_type": "stream",
     "text": [
      "Index(['N', 'Посада', 'Загальний досвід роботи',\n",
      "       'Досвід роботи на поточному місці', 'Зарплата на місяць',\n",
      "       'Зміна зарплати за 12 місяців', 'Місто', 'Розмір компанії',\n",
      "       'Тип компанії', 'Стать', 'Вік', 'Освіта', 'Ще студент',\n",
      "       'Рівень англійської', 'Дата заповнення', 'User.Agent', 'exp',\n",
      "       'current_job_exp', 'salary', 'Мова програмування'],\n",
      "      dtype='object')\n"
     ]
    }
   ],
   "source": [
    "# Видаляємо всі стовпці з пропусками, крім стовпця \"Мова програмування\"\n",
    "db_cleaned = db.dropna(axis=1, how='any').copy()\n",
    "db_cleaned['Мова програмування'] = db['Мова програмування']\n",
    "print(db_cleaned.columns)"
   ]
  },
  {
   "cell_type": "code",
   "execution_count": 6,
   "metadata": {},
   "outputs": [
    {
     "name": "stdout",
     "output_type": "stream",
     "text": [
      "Частка пропусків у кожній колонці після очищення:\n",
      " N                                   0.000000\n",
      "Посада                              0.000000\n",
      "Загальний досвід роботи             0.000000\n",
      "Досвід роботи на поточному місці    0.000000\n",
      "Зарплата на місяць                  0.000000\n",
      "Зміна зарплати за 12 місяців        0.000000\n",
      "Місто                               0.000000\n",
      "Розмір компанії                     0.000000\n",
      "Тип компанії                        0.000000\n",
      "Стать                               0.000000\n",
      "Вік                                 0.000000\n",
      "Освіта                              0.000000\n",
      "Ще студент                          0.000000\n",
      "Рівень англійської                  0.000000\n",
      "Дата заповнення                     0.000000\n",
      "User.Agent                          0.000000\n",
      "exp                                 0.000000\n",
      "current_job_exp                     0.000000\n",
      "salary                              0.000000\n",
      "Мова програмування                  0.442325\n",
      "dtype: float64\n"
     ]
    }
   ],
   "source": [
    "# Знову порахуємо, яка частка пропусків міститься в кожній колонці і переконаємося, що залишився тільки стовпець \"Мова програмування\"\n",
    "missing_values_cleaned = db_cleaned.isnull().sum() / len(db_cleaned)\n",
    "print(\"Частка пропусків у кожній колонці після очищення:\\n\", missing_values_cleaned)"
   ]
  },
  {
   "cell_type": "code",
   "execution_count": 7,
   "metadata": {},
   "outputs": [
    {
     "name": "stdout",
     "output_type": "stream",
     "text": [
      "   N                    Посада Загальний досвід роботи  \\\n",
      "2  3         Software Engineer                       4   \n",
      "3  4         Software Engineer                       5   \n",
      "4  5  Senior Software Engineer       10 і більше років   \n",
      "6  7  Junior Software Engineer                       1   \n",
      "7  8  Senior Software Engineer                       6   \n",
      "\n",
      "  Досвід роботи на поточному місці  Зарплата на місяць  \\\n",
      "2                                1                2500   \n",
      "3                                4                2000   \n",
      "4                              0.5                4500   \n",
      "6                  менше 3 місяців                 600   \n",
      "7                                1                3300   \n",
      "\n",
      "   Зміна зарплати за 12 місяців         Місто Розмір компанії   Тип компанії  \\\n",
      "2                           800          Київ    до 1000 осіб  Аутсорсингова   \n",
      "3                           400         Одеса     до 200 осіб     Продуктова   \n",
      "4                           500          Інше      до 10 осіб     Продуктова   \n",
      "6                           100  Хмельницький      до 50 осіб  Аутсорсингова   \n",
      "7                           500          Київ      до 10 осіб     Продуктова   \n",
      "\n",
      "      Стать  Вік             Освіта  Ще студент  \\\n",
      "2  чоловіча   26               Вища       False   \n",
      "3  чоловіча   30            Середня       False   \n",
      "4  чоловіча   30  Технікум / Коледж       False   \n",
      "6  чоловіча   23               Вища       False   \n",
      "7  чоловіча   28               Вища       False   \n",
      "\n",
      "                     Рівень англійської      Дата заповнення  \\\n",
      "2               Intermediate (середній)  12/06/2017 13:02:47   \n",
      "3    Pre-intermediate (нище середнього)  12/06/2017 13:03:01   \n",
      "4               Intermediate (середній)  12/06/2017 13:03:47   \n",
      "6    Pre-intermediate (нище середнього)  12/06/2017 13:04:26   \n",
      "7  Upper-Intermediate (вище середнього)  12/06/2017 13:04:27   \n",
      "\n",
      "                                          User.Agent   exp  current_job_exp  \\\n",
      "2  Mozilla/5.0 (Windows NT 10.0; Win64; x64) Appl...   4.0              1.0   \n",
      "3  Mozilla/5.0 (Windows NT 6.1; Win64; x64) Apple...   5.0              4.0   \n",
      "4  Mozilla/5.0 (iPhone; CPU iPhone OS 10_3_2 like...  10.0              0.5   \n",
      "6  Mozilla/5.0 (Windows NT 10.0; Win64; x64) Appl...   1.0              0.0   \n",
      "7  Mozilla/5.0 (X11; Ubuntu; Linux x86_64; rv:53....   6.0              1.0   \n",
      "\n",
      "   salary Мова програмування  \n",
      "2    2500            C#/.NET  \n",
      "3    2000         JavaScript  \n",
      "4    4500         JavaScript  \n",
      "6     600            C#/.NET  \n",
      "7    3300                C++  \n"
     ]
    }
   ],
   "source": [
    "# Видаляємо усі рядки у вихідній таблиці за допомогою методу dropna\n",
    "db_cleaned.dropna(inplace=True)\n",
    "print(db_cleaned.head())"
   ]
  },
  {
   "cell_type": "code",
   "execution_count": 52,
   "metadata": {},
   "outputs": [
    {
     "name": "stdout",
     "output_type": "stream",
     "text": [
      "Новий розмір таблиці: (4854, 20)\n"
     ]
    }
   ],
   "source": [
    "# Визначяємо новий розмір таблиці за допомогою методу shape\n",
    "print(\"Новий розмір таблиці:\", db_cleaned.shape)"
   ]
  },
  {
   "cell_type": "code",
   "execution_count": null,
   "metadata": {},
   "outputs": [],
   "source": [
    "# Створюємо нову таблицю python_data, в якій будуть тільки рядки зі спеціалістами, які вказали мову програмування Python\n",
    "python_data = db[db['Мова програмування'].str.contains('Python', na=False)].copy()\n",
    "print(python_data)"
   ]
  },
  {
   "cell_type": "code",
   "execution_count": 56,
   "metadata": {},
   "outputs": [
    {
     "name": "stdout",
     "output_type": "stream",
     "text": [
      "Розмір таблиці python_data: (207, 25)\n"
     ]
    }
   ],
   "source": [
    "# Визначаємо розмір таблиці python_data за допомогою методу shape\n",
    "print(\"Розмір таблиці python_data:\", python_data.shape)"
   ]
  },
  {
   "cell_type": "markdown",
   "metadata": {},
   "source": [
    "З посадою розібратися"
   ]
  },
  {
   "cell_type": "code",
   "execution_count": 63,
   "metadata": {},
   "outputs": [
    {
     "name": "stdout",
     "output_type": "stream",
     "text": [
      "<pandas.core.groupby.generic.DataFrameGroupBy object at 0x00000273F24F7890>\n"
     ]
    }
   ],
   "source": [
    "# Виконаємо групування за стовпчиком \"Посада\"\n",
    "grouped_data = db.groupby('Посада')\n",
    "print(grouped_data)"
   ]
  },
  {
   "cell_type": "code",
   "execution_count": null,
   "metadata": {},
   "outputs": [],
   "source": [
    "# Створимо новий DataFrame з мінімальним та максимальним значенням у стовпчику \"Зарплата на місяць\"\n",
    "agg_data = grouped_data['Зарплата на місяць'].agg(['min', 'max'])\n",
    "print(\"Агреговані дані:\\n\", agg_data)"
   ]
  },
  {
   "cell_type": "code",
   "execution_count": null,
   "metadata": {},
   "outputs": [],
   "source": [
    "# Створимо функцію fill_avg_salary, яка повертатиме середнє значення заробітної плати на місяць\n",
    "def fill_avg_salary(row):\n",
    "    return (row['min'] + row['max']) / 2\n",
    "agg_data['avg'] = agg_data.apply(fill_avg_salary, axis=1)\n",
    "print(agg_data)"
   ]
  },
  {
   "cell_type": "code",
   "execution_count": null,
   "metadata": {},
   "outputs": [],
   "source": [
    "# Створимо описову статистику за допомогою методу describe для нового стовпчика\n",
    "print(\"Описова статистика для нового стовпчика 'avg':\\n\", agg_data['avg'].describe())"
   ]
  },
  {
   "cell_type": "code",
   "execution_count": 69,
   "metadata": {},
   "outputs": [],
   "source": [
    "# Збережемо отриману таблицю в CSV файл\n",
    "agg_data.to_csv('aggregated_python_data.csv', index=True)"
   ]
  }
 ],
 "metadata": {
  "kernelspec": {
   "display_name": "Python 3",
   "language": "python",
   "name": "python3"
  },
  "language_info": {
   "codemirror_mode": {
    "name": "ipython",
    "version": 3
   },
   "file_extension": ".py",
   "mimetype": "text/x-python",
   "name": "python",
   "nbconvert_exporter": "python",
   "pygments_lexer": "ipython3",
   "version": "3.12.3"
  }
 },
 "nbformat": 4,
 "nbformat_minor": 2
}
